{
 "cells": [
  {
   "cell_type": "code",
   "execution_count": 1,
   "metadata": {},
   "outputs": [
    {
     "name": "stdout",
     "output_type": "stream",
     "text": [
      "The doctor failed to save any Townsperson tonight\n",
      "Alive\n",
      "Injured\n",
      "Alive\n",
      "Injured\n",
      "Dead\n"
     ]
    }
   ],
   "source": [
    "import mafia_chara\n",
    "\n",
    "#test file for testing out character classes and methods\n",
    "\n",
    "Bob=mafia_chara.Townperson(\"Bob\", \"townspeople\", \"Alive\", 1)\n",
    "Alice=mafia_chara.Townperson(\"Alice\", \"townspeople\", \"Injured\", 2)\n",
    "Charlie=mafia_chara.Townperson(\"Charlie\", \"townspeople\", \"Alive\", 3)\n",
    "Jane=mafia_chara.Townperson(\"Jane\", \"townspeople\", \"Injured\", 4)\n",
    "Carl=mafia_chara.Townperson(\"Carl\", \"townspeople\", \"Dead\", 5)\n",
    "doctor=mafia_chara.Doctor(\"Jeff\",\"doctor\",\"Alive\")\n",
    "townylist=[Bob,Alice,Charlie,Jane,Carl]\n",
    "testkiller=mafia_chara.playKiller(\"Joseph\",\"Murderer\",\"Alive\")\n",
    "Knife=mafia_chara.mafia_items.basicItems(\"Knife\",\"BLABLABLA THIS IS A TEST DESCRIPTION\",2)\n",
    "Gun=mafia_chara.mafia_items.basicItems(\"Gun\",\"BLABLABLA THIS IS A TEST DESCRIPTION\",3)\n",
    "Pillow=mafia_chara.mafia_items.basicItems(\"Pillow\",\"BLABLABLA THIS IS A TEST DESCRIPTION\",1)\n",
    "doctor.heal(townylist)\n",
    "\n",
    "print(Bob.status)\n",
    "print(Alice.status)\n",
    "print(Charlie.status)\n",
    "print(Jane.status)\n",
    "print(Carl.status)\n",
    "\n"
   ]
  },
  {
   "cell_type": "markdown",
   "metadata": {},
   "source": [
    "Below is testing for the player detective and its methods"
   ]
  },
  {
   "cell_type": "code",
   "execution_count": null,
   "metadata": {},
   "outputs": [],
   "source": [
    "TestDect=mafia_chara.playDetective(\"horton\",\"Detective\",'Alive')\n",
    "TestDect.dectInventory=[\"Item 1\",\"Item 2\",\"Item 3\"]\n",
    "TestDect.checkInv()"
   ]
  },
  {
   "cell_type": "markdown",
   "metadata": {},
   "source": [
    "murderer testing"
   ]
  },
  {
   "cell_type": "code",
   "execution_count": null,
   "metadata": {},
   "outputs": [],
   "source": [
    "\n",
    "testkiller.killInv=[Knife,Pillow,Gun]\n",
    "testkiller.checkInv_k()\n",
    "testkiller.killTown(Bob,Knife)\n",
    "print(Knife.itemUses)\n",
    "print(Bob.status)\n",
    "testkiller.killTown(Charlie,Knife)\n",
    "print(Knife.itemUses)\n",
    "print(Charlie.status)\n",
    "testkiller.killTown(Jane,Knife)\n",
    "print(Jane.status)\n",
    "\n",
    "testkiller.checkInv_k()   #testing to ensure that option CANNOT be used once it \n",
    " \n",
    "\n",
    "\n",
    "\n",
    "\n"
   ]
  },
  {
   "cell_type": "code",
   "execution_count": 3,
   "metadata": {},
   "outputs": [
    {
     "name": "stdout",
     "output_type": "stream",
     "text": [
      "Bob's fate has been sealed...\n",
      "Injured\n"
     ]
    }
   ],
   "source": [
    "#killinput=input(\"Who will you target\")\n",
    "#killmethodinput=input(\"What weapon will you use?\")\n",
    "\n",
    "\n",
    "testkiller.killInv=[Knife,Pillow,Gun]\n",
    "\n",
    "killinput = input(\"Who will you target? \").strip()\n",
    "killmethodinput = input(\"What weapon will you use? \").strip()\n",
    "\n",
    "def get_target_by_name(name, townylist):                        #This block was created with AI assistance (Deepseek) {start}\n",
    "    for townie in townylist:                                    #\n",
    "        if townie.name.lower() == name.strip().lower():         #\n",
    "            return townie                                       #\n",
    "    return None                                                 #\n",
    "                                                                #These two functions are helper functions meant to convert the user input  \n",
    "def get_method_by_name(name, killer):                           #from strings into the proper objects to be fed into the class method below\n",
    "    for item in killer.killInv:                                 #\n",
    "        if item.Itemname.lower() == name.strip().lower():       #\n",
    "            return item                                         #\n",
    "    return None                                                 #\n",
    "\n",
    "kill_target = get_target_by_name(killinput, townylist)          #\n",
    "kill_method = get_method_by_name(killmethodinput, testkiller)   #This block was created with AI assistance (Deepseek) {end}\n",
    "\n",
    "\n",
    "\n",
    "testkiller.killTown(kill_target,kill_method )\n",
    "\n",
    "# if killinput\n",
    "print(Bob.status)"
   ]
  },
  {
   "cell_type": "markdown",
   "metadata": {},
   "source": [
    "writing detective functions\n"
   ]
  },
  {
   "cell_type": "code",
   "execution_count": 5,
   "metadata": {},
   "outputs": [
    {
     "name": "stdout",
     "output_type": "stream",
     "text": [
      "Option:Suspect Description:who is the most sus here...\n",
      "Option:Follow Description:ooo follow those steps ...\n",
      "Option:Jail Description:Ah,straigth to jail...\n",
      "Congratulations, you have found Jake to be the murderer!\n"
     ]
    }
   ],
   "source": [
    "detective= mafia_chara.playDetective( \"Ana\", \"Detective\",\"alive\")\n",
    "\n",
    "\n",
    "\n",
    "Suspect = mafia_chara.mafia_items.basicItems(\"Suspect\",\"who is the most sus here...\",2)\n",
    "Follow = mafia_chara.mafia_items.basicItems(\"Follow\",\"ooo follow those steps ...\", 2)\n",
    "Jail = mafia_chara.mafia_items.basicItems (\"Jail\",\"Ah,straigth to jail...\",3)\n",
    " \n",
    "detective.dectInventory=[Suspect,Follow,Jail]\n",
    "detective.checkInv()\n",
    "npctestkiller=mafia_chara.NPCKiller(\"Jake\",\"Murderer\",\"Alive\")\n",
    "dectoptionsel = input(\"Which option will you choose \").strip()\n",
    "townliststr=[npctestkiller.name] \n",
    "for item in townylist:\n",
    "    townliststr.append(item.name)\n",
    "townylistdect=list(townylist)\n",
    "townylistdect.append(npctestkiller)\n",
    "def get_suspect_by_name(name, townylistdect):                        #\n",
    "    for chara in townylistdect:                                    #\n",
    "        if chara.name.lower() == name.strip().lower():         #\n",
    "            return chara                                       #\n",
    "    return None     \n",
    "\n",
    "if dectoptionsel==Suspect.Itemname:\n",
    "    print(f\"Here is a list of the townspeople: {str(townliststr)}\")\n",
    "\n",
    "\n",
    "if dectoptionsel==Jail.Itemname:\n",
    "    jailselect=input(\"Who do you think is the killer?: \")\n",
    "    sus_target = get_suspect_by_name(jailselect, townylistdect)          #\n",
    "    detective.declareSuspect(sus_target)\n",
    "\n",
    "\n"
   ]
  }
 ],
 "metadata": {
  "kernelspec": {
   "display_name": "base",
   "language": "python",
   "name": "python3"
  },
  "language_info": {
   "codemirror_mode": {
    "name": "ipython",
    "version": 3
   },
   "file_extension": ".py",
   "mimetype": "text/x-python",
   "name": "python",
   "nbconvert_exporter": "python",
   "pygments_lexer": "ipython3",
   "version": "3.12.7"
  }
 },
 "nbformat": 4,
 "nbformat_minor": 2
}
