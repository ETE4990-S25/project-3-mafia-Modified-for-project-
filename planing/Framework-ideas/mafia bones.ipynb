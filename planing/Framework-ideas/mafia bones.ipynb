{
 "cells": [
  {
   "cell_type": "code",
   "execution_count": null,
   "metadata": {},
   "outputs": [],
   "source": [
    "mafia_bones_notebook"
   ]
  },
  {
   "cell_type": "code",
   "execution_count": null,
   "metadata": {},
   "outputs": [],
   "source": [
    "# bones imports "
   ]
  },
  {
   "cell_type": "code",
   "execution_count": null,
   "metadata": {},
   "outputs": [],
   "source": [
    "#intro\n",
    "\n",
    "input( \"press enter to start:\")\n",
    "print ( \"wire sounds \")\n",
    "print (\" flashing lights\")\n",
    "print ( \" woow you are spining out of control\" )\n",
    "print ( \" try to stop the spining\")\n",
    "input (\" press your enter to stop\")\n",
    "\n",
    "print ( \" it seems like you have entered a time machine \" )\n",
    "print ( \" Welcome, or should I say good luck...\" )"
   ]
  },
  {
   "cell_type": "code",
   "execution_count": null,
   "metadata": {},
   "outputs": [],
   "source": [
    "## player selection\n",
    "input(\"press enter to continue:\")\n",
    "print(\" my name is Fern. I am the all seeing eye... I will be the narrator of this story\")\n",
    "print (\"I dont often see many new people around this town...Lets find out who you are\")\n",
    "choice = input ( \"Press 1 for Murder or 2 for Detective enter:\")\n",
    "if choice == '1':\n",
    "  print (\"ooo scary a murder is in town\")\n",
    "  print ( \" Your goal is to go 3 nights without being caught...\")\n",
    "elif choice == '2':\n",
    "  print (\" so theres a new sherif in town then...\")\n",
    "  print ('your goal is to catch the murder before the third night')\n",
    "else:\n",
    "  print(\"Pick again 1 or 2.:\")"
   ]
  },
  {
   "cell_type": "code",
   "execution_count": null,
   "metadata": {},
   "outputs": [
    {
     "name": "stdout",
     "output_type": "stream",
     "text": [
      "The murder options are:\n"
     ]
    },
    {
     "ename": "TypeError",
     "evalue": "'type' object is not iterable",
     "output_type": "error",
     "traceback": [
      "\u001b[1;31m---------------------------------------------------------------------------\u001b[0m",
      "\u001b[1;31mTypeError\u001b[0m                                 Traceback (most recent call last)",
      "Cell \u001b[1;32mIn[5], line 4\u001b[0m\n\u001b[0;32m      2\u001b[0m \u001b[38;5;28;01mimport\u001b[39;00m \u001b[38;5;21;01mmafia_items\u001b[39;00m\n\u001b[0;32m      3\u001b[0m \u001b[38;5;28mprint\u001b[39m (\u001b[38;5;124mf\u001b[39m\u001b[38;5;124m\"\u001b[39m\u001b[38;5;124mThe murder options are:\u001b[39m\u001b[38;5;124m\"\u001b[39m)\n\u001b[1;32m----> 4\u001b[0m \u001b[38;5;28;01mfor\u001b[39;00m item \u001b[38;5;129;01min\u001b[39;00m mafia_items\u001b[38;5;241m.\u001b[39mbasicItems:\n\u001b[0;32m      5\u001b[0m     \u001b[38;5;28mprint\u001b[39m(\u001b[38;5;124mf\u001b[39m\u001b[38;5;124m\"\u001b[39m\u001b[38;5;124m- \u001b[39m\u001b[38;5;132;01m{\u001b[39;00mitem\u001b[38;5;132;01m}\u001b[39;00m\u001b[38;5;124m\"\u001b[39m)\n",
      "\u001b[1;31mTypeError\u001b[0m: 'type' object is not iterable"
     ]
    }
   ],
   "source": [
    "## inventory  for charators \n",
    "import mafia_items\n",
    "print (f\"The murder options are:\")\n",
    "for item in mafia_items:\n",
    "    print(f\"- {item}\")\n",
    "\n",
    "\n",
    "\n"
   ]
  },
  {
   "cell_type": "code",
   "execution_count": 16,
   "metadata": {},
   "outputs": [
    {
     "name": "stdout",
     "output_type": "stream",
     "text": [
      "Item name:pillow Description:Night night it is... number of uses Uses left:2\n",
      "Item name:knife Description:Didn't anyone ever tell you to be careful running around with knives? Number of uses Uses left:2\n",
      "Item name:gun Description:Ah, a classic one and done kind of deal. Number of uses Uses left:3\n"
     ]
    }
   ],
   "source": [
    "from mafia_chara import playKiller\n",
    "import mafia_items\n",
    "\n",
    "Pillow = mafia_items.basicItems(\"pillow\",\"Night night it is... number of uses\",2)\n",
    "Knife = mafia_items. basicItems(\"knife\",\"Didn't anyone ever tell you to be careful running around with knives? Number of uses\", 2)\n",
    "Gun = mafia_items. basicItems (\"gun\",\"Ah, a classic one and done kind of deal. Number of uses\",3)\n",
    " \n",
    "killer= playKiller ( \"Joe\", \"killer\",\"alive\")\n",
    "killer.killInv =[Pillow, Knife, Gun]\n",
    "killer.checkInv_k()"
   ]
  },
  {
   "cell_type": "code",
   "execution_count": 18,
   "metadata": {},
   "outputs": [
    {
     "name": "stdout",
     "output_type": "stream",
     "text": [
      "Our victim options are: ['Joe', 'Eve', 'Max', 'Ari', 'Jack', 'Bob']\n"
     ]
    }
   ],
   "source": [
    " # input here \n",
    "  # murder pick who  save input as a varible call\n",
    "townperson_list = [ \"Joe\", \"Eve\", \"Max\", \"Ari\",\"Jack\",\"Bob\"]\n",
    "print(f\"Our victim options are:\" ,townperson_list)\n",
    "victim_name = input (\"Enter victim name here: \").strip().lower()\n"
   ]
  },
  {
   "cell_type": "code",
   "execution_count": null,
   "metadata": {},
   "outputs": [],
   "source": [
    "#import doc here\n",
    "\n",
    "  print(f\" But who did the doctor save?\")\n",
    "\n",
    " #doctor here picks who to save\n",
    " #Importing the classes from mafia_chara.py\n",
    "  from mafia_chara import Townperson, Doctor\n",
    "\n",
    " # Create a list of townspeople (instances of the townperson class\n",
    "  townslist = [\n",
    "    Townperson(\"Max\", \"Townsman\", \"Injured\", 1),\n",
    "    Townperson(\"Eve\", \"Townsman\", \"Alive\", 2),\n",
    "    Townperson(\"Bob\", \"Townsman\", \"Injured\", 3),\n",
    "    Townperson(\"Jack\", \"Townsman\", \"Alive\", 4),\n",
    "    Townperson(\"Ari\", \"Townsman\", \"Alive\", 5)\n",
    "]\n",
    "\n",
    "  # Create a doctor (instance of the Doctor class)\n",
    "  doctor = Doctor(\"Dr. Smith\", \"Doctor\", \"Alive\")\n",
    "\n",
    "  # Simulate the doctor trying to heal someone\n",
    "  print(\"The doctor is trying to heal a townsperson...\")\n",
    "  doctor.heal(townslist)\n",
    "\n",
    "# Optionally, print the status of all townspeople after the doctor attempts to heal\n",
    "  print(\"\\nCurrent statuses of all townspeople:\")\n",
    "  for person in townslist:\n",
    "    print(f\"{person.name}: {person.status}\")"
   ]
  },
  {
   "cell_type": "code",
   "execution_count": null,
   "metadata": {},
   "outputs": [],
   "source": [
    "#newday\n",
    "print(f\" A New Day has dawned \")\n",
    "print (f\"There is a dectective on your trail... try not to get caught \")"
   ]
  },
  {
   "cell_type": "code",
   "execution_count": null,
   "metadata": {},
   "outputs": [],
   "source": [
    "from mafia_chara import playDetective"
   ]
  },
  {
   "cell_type": "code",
   "execution_count": null,
   "metadata": {},
   "outputs": [],
   "source": [
    "#last night\n",
    "print(f\" Honestly I am suprized you made it this far heres to night 3\")\n"
   ]
  },
  {
   "cell_type": "code",
   "execution_count": null,
   "metadata": {},
   "outputs": [],
   "source": [
    "class playDetective(Character):\n",
    "    \"\"\"Creates the player version of the detective character\"\"\"\n",
    "    def __init__(self,name,role,status):\n",
    "        super().__init__(name,role,status)\n",
    "        self.dectInventory=[]\n",
    "    def checkInv(self):\n",
    "        for item in self.dectInventory:\n",
    "            print(f'{item},')"
   ]
  },
  {
   "cell_type": "code",
   "execution_count": null,
   "metadata": {},
   "outputs": [
    {
     "name": "stdout",
     "output_type": "stream",
     "text": [
      "Option:Suspect Description:who is the most sus here...\n",
      "Option:Follow Description:ooo follow those steps ...\n",
      "Option:Jail Description:Ah,straigth to jail...\n"
     ]
    }
   ],
   "source": [
    "from mafia_chara import playDetective\n",
    "import mafia_items\n",
    "\n",
    "\n",
    " \n",
    "detective= playDetective ( \"Ana\", \"Detective\",\"alive\")\n",
    "\n",
    "\n",
    "\n",
    "Suspect = mafia_items.basicItems(\"Suspect\",\"who is the most sus here...\",2)\n",
    "Follow = mafia_items.basicItems(\"Follow\",\"ooo follow those steps ...\", 2)\n",
    "Jail = mafia_items.basicItems (\"Jail\",\"Ah,straigth to jail...\",3)\n",
    " \n",
    "detective.dectInventory=[Suspect,Follow,Jail]\n",
    "detective.checkInv()\n",
    "\n",
    "detective.dectInventory=[Suspect,Follow,Jail]\n",
    "detective.checkInv()\n",
    "\n",
    "dectoptionsel = input(\"Which option will you choose \").strip()\n",
    "townliststr=[testkiller.name] \n",
    "for item in townylist:\n",
    "    townliststr.append(item.name)\n",
    "if dectoptionsel==Suspect.Itemname:\n",
    "    print(f\"Here is a list of the townspeople: {str(townliststr)}\")\n"
   ]
  },
  {
   "cell_type": "code",
   "execution_count": null,
   "metadata": {},
   "outputs": [],
   "source": [
    "detective.dectInventory=[Suspect,Follow,Jail]\n",
    "detective.checkInv()\n",
    "\n",
    "dectoptionsel = input(\"Which option will you choose \").strip()\n",
    "townliststr=[testkiller.name] \n",
    "for item in townylist:\n",
    "    townliststr.append(item.name)\n",
    "if dectoptionsel==Suspect.Itemname:\n",
    "    print(f\"Here is a list of the townspeople: {str(townliststr)}\")"
   ]
  }
 ],
 "metadata": {
  "kernelspec": {
   "display_name": "Python 3",
   "language": "python",
   "name": "python3"
  },
  "language_info": {
   "codemirror_mode": {
    "name": "ipython",
    "version": 3
   },
   "file_extension": ".py",
   "mimetype": "text/x-python",
   "name": "python",
   "nbconvert_exporter": "python",
   "pygments_lexer": "ipython3",
   "version": "3.12.7"
  }
 },
 "nbformat": 4,
 "nbformat_minor": 2
}
